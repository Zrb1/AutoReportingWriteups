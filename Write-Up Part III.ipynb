{
 "cells": [
  {
   "cell_type": "markdown",
   "metadata": {},
   "source": [
    "# Automatic Reporting in Python\n",
    "## Part 3 - Packaging It Up\n",
    "\n",
    "*Note: Sorry about the long period of absence between posts! A healthy mix of life events and laziness has played a part.*\n",
    "\n",
    "As outlined in my previous posts ([Part I](https://dev.to/goyder/automatic-reporting-in-python---part-1-from-planning-to-hello-world-32n1) and [Part II](https://dev.to/goyder/automatic-reporting-in-python---part-2-from-hello-world-to-real-insights-8p3) available on this fine website), the goal of this project is to make an automatic reporting tool.\n",
    "\n",
    "In this series of guides, the outcome I'm shooting for is a single HTML page that allows me to interrogate and compare the output of machine learning models.\n",
    "\n",
    "<img src=\"Static/2_summary.png\">\n",
    "\n",
    "At the [conclusion of the previous tutorial](https://dev.to/goyder/automatic-reporting-in-python---part-2-from-hello-world-to-real-insights-8p3), the reporting tool was actually showing some genuine use! It could accept a number of `.csv` summaries of machine learning summary files and output a single `.html` page that presented the information is a form that was... functional.\n",
    "\n",
    "There three main features that I'd like to add to the tool for now:\n",
    "1. The report looks incredibly dull. Readability counts! We need to improve the *`a e s t h e t i c s`* of the report.\n",
    "2. It's hard to dig into the tables - currently it's just 100 rows presented with no tools to search. Some basic search functionality would be grouse.\n",
    "3. The datasets that we want to run the report with are currently hard-coded into the script. This needs to be split out to make the tool slightly more flexible.\n",
    "\n",
    "Without further ado, let's take a crack at improving the aesthetics."
   ]
  },
  {
   "cell_type": "markdown",
   "metadata": {},
   "source": [
    "## Step Seven - Improving the Aesthetics"
   ]
  },
  {
   "cell_type": "markdown",
   "metadata": {},
   "source": [
    "Those of you with an understanding of HTML pages might know what comes next: Cascading Style Sheets, known more commonly as CSS!\n",
    "\n",
    "### Taking first steps down this path\n",
    "\n",
    "The challenge in the context of this tutorial is that this is an *enormous* field that I personally am not actually particularly well-versed in, having only dabbled and hacked in this space.\n",
    "\n",
    "So, if this is your first real introduction to CSS, let me take you down the same path I would recommend in learning any new tech:\n",
    "* Do some background reading on the fundamentals of CSS. Hit up [Wikipedia](https://en.wikipedia.org/wiki/Cascading_Style_Sheets). If you're keen, hit up [the CSS standard!](https://www.w3.org/TR/2011/REC-CSS2-20110607/intro.html#html-tutorial). Never be afraid to Google \"simple introduction to [topic].\" \n",
    "* As you read and explore, make note of potential good resources of future information. I would encourage everyone to take a look for an [\"Awesome List\"](https://github.com/sindresorhus/awesome) relevant to your topic - and in case, the Awesome CSS List is [here](https://github.com/awesome-css-group/awesome-css#readme).\n",
    "* With a basic understanding of what the hell is going on under your belt, play around to your heart's content with local files and implement as much as you can in local scratch files. In this case, create small (or large?) HTML pages and figure out how to structure the CSS neatly. I find this really helps to get to know some of the practical realities and challenges of working with the language before I start diving into frameworks."
   ]
  },
  {
   "cell_type": "markdown",
   "metadata": {},
   "source": [
    "### Being a bit more mercenary\n",
    "\n",
    "For self improvement, I find nothing beats spending the time working up solutions from scratch. Of course, if you're trying to hack together a solution for a business need, it may not behoove you to spend hours and days coming up with an elegant CSS framework from the beginning.\n",
    "\n",
    "Instead, we may like to quickly jump off of *someone else's* CSS framework. Fortunately, there are a number of these available, with a great number of them focusing on being 'minimal'. A quick [Google search](https://www.google.com/search?q=minimal+css+framework) should get you started down this path. "
   ]
  },
  {
   "cell_type": "markdown",
   "metadata": {},
   "source": [
    "\n",
    "\n",
    "### Integration\n",
    "\n",
    "How is the CSS file to be integrated our report? There's a few options that are typically at play:\n",
    "* *Download the CSS file and keep it as external file.* The advantage is that we have our `.html` and `.css` files neatly separated, and we have full control over both; the far more significant disadvantage is that now if we want to move our report around, we have to drag a bunch of `.css` files around with it.\n",
    "* *Use a [Content Delivery Network (CDN)](https://www.webopedia.com/TERM/C/CDN.html) copy of the CSS file*. Most frameworks will offer a CDN link  for their file: this is essentially a link to an efficient, readily available copy of the data. The advantage is that you can get a CSS up and going in your page just by dropping a single link in the `<head>` section of your `.html`, no mussin' and fussin' with local files. The disadvantage is that you don't have control of the file, and an internet connection is required.\n",
    "* A slightly more complex option is to have local copies of the CSS file, and then write them *into* the `.html` file. This could probably be done relatively easily and sustainibly if we integrated some templating. The advantage is that we'd have our report in a single file, *and* it wouldn't require an internet connection to use; the disadvantage is that it is going to require a bit more effort to get set up. (This is commonly used approach when creating standalone webpages. Write a [Jupyter Notebook] to `.html`, inspect the file, and you'll find all the CSS and JavaScript magic packaged up in the `<head>` section.)\n",
    "\n",
    "<<<< Add an image here >>>>\n",
    "\n",
    "At this early stage of prototyping, I prefer to use CDNs if possible. The advantage of being able to swap CSS frameworks just by changing a single line of code and not having to bother with local files is worth the cost of not being able to play with and edit the framework. Optimisation (in the form of integrating the code into the `.html` file).\n",
    "\n",
    "To start with, I'm going to use [Milligram](https://milligram.io/), a lightweight little framework. To get started using the CDN method, I simply follow the provided instructions to integrate into the CDN. Under our `templates/report.html` file, I'll add the requisite links into the `<head>` section:\n",
    "\n",
    "**`report.html`**\n",
    "```\n",
    "<!DOCTYPE html>\n",
    "<html lang=\"en\">\n",
    "<head>\n",
    "    <meta charset=\"UTF-8\">\n",
    "    <title>{{ title }}</title>\n",
    "    <link rel=\"stylesheet\" href=\"//fonts.googleapis.com/css?family=Roboto:300,300italic,700,700italic\">\n",
    "    <link rel=\"stylesheet\" href=\"//cdn.rawgit.com/necolas/normalize.css/master/normalize.css\">\n",
    "    <link rel=\"stylesheet\" href=\"//cdn.rawgit.com/milligram/milligram/master/dist/milligram.min.css\">\n",
    "</head>\n",
    "<!-- body section continues below... -->\n",
    "```\n",
    "\n",
    "And all of a sudden, our plain, early 90's looking webpage has been transformed into something a bit more pleasing to the eye:\n",
    "\n",
    "<img src=\"Static/step7-css-without-structure.png\">\n",
    "\n",
    "But we note there's something still not quite right here - primarily, why does the page (and the table in particular) always take up the whole width of the window? Why doesn't this look right on mobile? \n",
    "\n",
    "The answer lies in how we lay out out `.html` files."
   ]
  },
  {
   "cell_type": "markdown",
   "metadata": {},
   "source": [
    "### HTML layouts"
   ]
  },
  {
   "cell_type": "markdown",
   "metadata": {},
   "source": [
    "## Step Eight - Making Our Tables Interactive\n",
    "\n",
    "We've actually done a lot of the hard work here - we have CSS and we're good to go. \n",
    "\n",
    "Now, we just want to add the JavaScript to make this magic work.\n",
    "\n",
    "JQuery, from CDN."
   ]
  },
  {
   "cell_type": "code",
   "execution_count": null,
   "metadata": {},
   "outputs": [],
   "source": [
    "kkkk"
   ]
  }
 ],
 "metadata": {
  "kernelspec": {
   "display_name": "Python 3",
   "language": "python",
   "name": "python3"
  },
  "language_info": {
   "codemirror_mode": {
    "name": "ipython",
    "version": 3
   },
   "file_extension": ".py",
   "mimetype": "text/x-python",
   "name": "python",
   "nbconvert_exporter": "python",
   "pygments_lexer": "ipython3",
   "version": "3.6.5"
  }
 },
 "nbformat": 4,
 "nbformat_minor": 2
}
