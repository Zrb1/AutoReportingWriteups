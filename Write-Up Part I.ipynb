{
 "cells": [
  {
   "cell_type": "markdown",
   "metadata": {},
   "source": [
    "# Automatic Reporting in Python\n",
    "## Part 1 - From planning, to Hello World"
   ]
  },
  {
   "cell_type": "markdown",
   "metadata": {},
   "source": [
    "The goal of this project is to create an automatic reporting tool.\n",
    "\n",
    "The simple outcome would, in any particular case, be a single stand-alone HTML file. An HTML file is a great reporting tool: even stripped of a back-end server, you can package up a good volume of info in a page and have handy-dandy interactivity.\n",
    "\n",
    "<img src=\"Static/BroadConcept.png\">\n",
    "\n",
    "Personally, I mainly intend to use this to automate reporting of model performance in the machine learning space, but you could of course use this for any context! \n",
    "\n",
    "While not a terribly exciting or sexy tool, automatically producing reports is a fantastic capability, especially in business environments. [Automate the boring stuff,](https://automatetheboringstuff.com/) as they say.\n",
    "\n",
    "**Naturally, tools like this already exist**. But I want to make my own, for the experience and flexibility it offers me."
   ]
  },
  {
   "cell_type": "markdown",
   "metadata": {},
   "source": [
    "### How is this guide presented?\n",
    "\n",
    "Rather than just providing a dump of code that works, I'd like to incrementally work through the development, step-by-step. [You'll see what I see - code what I code!](https://www.youtube.com/watch?v=l1_bp8YKUPU)\n",
    "\n",
    "Personally, I've always found this kind of tutorial more effective as:\n",
    "* It gives an insight of how someone else approaches a problem\n",
    "* It actually reflects how I code - feature by feature, commit by commit."
   ]
  },
  {
   "cell_type": "markdown",
   "metadata": {},
   "source": [
    "### Who is this for?\n",
    "\n",
    "A user \"knee-deep\" in Python is assumed. I'll not run over standard syntax and the like, but I'll be sure to stop and explain anything particularly tricky. Wherever possible, I'll refer back to cleverer and clearer explanations."
   ]
  },
  {
   "cell_type": "markdown",
   "metadata": {},
   "source": [
    "___\n",
    "\n",
    "## Step Zero - Stop for a minute\n",
    "\n",
    "I'm actually a chemical engineer by background. While I certainly gained and applied a lot of useful and/or esoteric knowledge from this background, by far the most useful bit of advice I ever learnt was probably also the most simple:\n",
    "\n",
    "> When approaching a new problem, draw a picture.\n",
    "\n",
    "By \"draw a picture\", I mean to externalise the problem. Sketch it out and get thoughts and ideas out on paper.\n",
    "\n",
    "Before tackling this (relatively small-scale) project, I sat down and spent 10-15 minutes sketching out how I thought I might approach it, what parts would move, what parts would stay static, and a (very) rough structure of the project. \n",
    "\n",
    "My own nigh-incomprehensible sketch is as follows.\n",
    "\n",
    "<img src=\"Static/ConceptSketchII.png\">\n",
    "\n",
    "### Some key learnings from early planning\n",
    "\n",
    "Based on my early \"planning\", some things came clear:\n",
    "* An [HTML templating system](https://en.wikipedia.org/wiki/Web_template_system) makes a lot of sense. These systems are designed to input dynamic content into static template: this sounds exactly like what we're after. In Python, [Jinja](http://jinja.pocoo.org/) is a common choice, and may be familiar to anyone who has played with [Flask](http://flask.pocoo.org/).\n",
    "* In the machine-learning space, I'm constantly finding new things I might want to look out for, or new ways to compare models, or new ways to analyse a dataset - so both the *content of a report* and the *features I can pack into any report* should be flexible.\n",
    "* A lot of the data I work with is in .csv format, so having tools to work with that and generate interrogatable HTML blocks from it would be neat."
   ]
  },
  {
   "cell_type": "markdown",
   "metadata": {},
   "source": [
    "___\n",
    "\n",
    "## Step One - Lay a foundation\n",
    "\n",
    "For pretty much any size project bigger than tinkering in the command line for a couple of minutes, I'm fond of setting up a Github repo and a consistent environment. \n",
    "\n",
    "This, I think, will be a pretty small-scale project, so I'm not terribly concerned with laying down a [full project structure](http://docs.python-guide.org/en/latest/writing/structure/), but it's worth being comfortable with this for further reference.\n",
    "\n",
    "This:\n",
    "* Encourages good habits in keeping the project clean\n",
    "* Helps me jump from my Mac laptop to my Linux desktop (or any other enviornment, for that matter) with a minimum of fuss\n",
    "\n",
    "A few quick goals to start us off:\n",
    "\n",
    "### Set up a virtual environment\n",
    "\n",
    "We want to create an isolated instance of Python for this project - or \"virtual environment\" - rather than using whatever general installation is present on this machine. This isolates our dependencies and makes it easier to move the project around. I'm working in Pycharm, which gives you the option to create new virtual environment from the start.\n",
    "\n",
    "To make this transferable, I'll keep a `requirements.txt` file in the root of my project directory which details what packages are required in the environment.\n",
    "\n",
    "There are [many](https://docs.python.org/3/tutorial/venv.html), [many](https://realpython.com/python-virtual-environments-a-primer/), [many](http://docs.python-guide.org/en/latest/dev/virtualenvs/) guides on this topic, and they're good to refer to for more specific details. \n",
    "\n",
    "### Set up a Git/Github repo\n",
    "\n",
    "To implement version tracking and allow ready transport to and fro from Github, we'll initialise a Git repo locally (in the project folder) and create a new repo in Github. The local Git repo can then pushed to Github. \n",
    "\n",
    "A succint guide can be found [on Github.com](https://help.github.com/articles/adding-an-existing-project-to-github-using-the-command-line/).\n",
    "\n",
    "As a matter of course of working in a Git/Github repo, we'll add the following to the root project directory:\n",
    "* A `readme.md` file that briefly describes the project, and\n",
    "* A `.gitignore` file that indicates which files and folders should not be tracked by Git and pushed to Github. This might include automatically generated files (from the IDE, or from the virtual environment, for instance), sensitive files and config data, or anything else you've created locally that doesn't need to be shared with the world. For me, this looks like:\n",
    "\n",
    "```\n",
    "# .gitignore\n",
    "\n",
    "# Don't add the virtual environment, IDE, and Jupyter notebook info\n",
    "venv\n",
    ".idea\n",
    ".ipynb_checkpoints\n",
    "Write-up.ipynb\n",
    "```\n",
    "\n",
    "### Github status\n",
    "At this point, the skeleton of your project should look a bit like [this](https://github.com/goyder/autoreporting/tree/c1f1ba68cae351d0de851f0f4831b0f2caa0a407)."
   ]
  },
  {
   "cell_type": "markdown",
   "metadata": {},
   "source": [
    "___\n",
    "## Step Two - \"Hello, World\" templating\n",
    "\n",
    "At this point, we have a very simple project structure that we can start populating with code and templates. To carry out a bit of a smoke-test and give me somewhere to build off of, I'd like to create the simplest possible report.\n",
    "\n",
    "This first implementation should input no information, and output a simple \"Hello, world!\" HTML page."
   ]
  },
  {
   "cell_type": "markdown",
   "metadata": {},
   "source": [
    "### A brief primer on templating\n",
    "\n",
    "This project is built on the concept of templating and [template processors](https://en.wikipedia.org/wiki/Template_processor). This is an enormous but very crucial field in web publishing.\n",
    "\n",
    "In a crude explanation: we separate the *structure* of an HTML page and the *content* that is to be published. When it comes time to generate a new webpage (or in this context, a report!) we can input the content into a standardised structure and get a new webpage out. \n",
    "\n",
    "<img src=\"Static/TemplatingEngine.jpg\">\n",
    "\n",
    "Templating is well and truly ubiquitous now, but if you'd like an example of life without consistent manual or automatic templating, you can find many unironically charming examples in a [Geocities archive](http://www.oocities.org/)."
   ]
  },
  {
   "cell_type": "markdown",
   "metadata": {},
   "source": [
    "### Building 'hello, world' functionality\n",
    "\n",
    "Building on this distinction between *structure* and *content*, we can create very simple examples for both to test the system.\n",
    "\n",
    "#### Structure\n",
    "\n",
    "Our structure, in this case, is a near-empty HTML page with locations for data to be input. We'll call this a \"template\", and we'll store this and others under a `template` folder in our root project directory. We'll create a new HTML file under this folder - `{project_folder}/template/report.html`. The contents of this file are as follows:\n",
    "\n",
    "```HTML\n",
    "<!DOCTYPE html>\n",
    "<html lang=\"en\">\n",
    "<head>\n",
    "    <meta charset=\"UTF-8\">\n",
    "    <title>{{ content }}</title>\n",
    "</head>\n",
    "<body>\n",
    "{{ content }}\n",
    "</body>\n",
    "</html>\n",
    "```\n",
    "\n",
    "Note the elements here within curly braces (in this case *double* curly braces - `{{` and `}}`). This is where dynamic content will be entered. \n",
    "\n",
    "Template processors such as Jinja are very powerful and allow many features to be present in templates beyond simple insertion. Take a look at the first example on the [Jinja homepage](http://jinja.pocoo.org/docs/2.10/) and see if you can make sense of it.\n",
    "\n",
    "#### Content\n",
    "\n",
    "Our content, for now, can be as simple as `hello, world!`. \n",
    "\n",
    "We'll create a new file in the root of the project directory called `{project_folder}/autoreporting.py` and hardcode our 'content' to begin with.\n",
    "\n",
    "```python\n",
    "content = \"Hello, world!\"\n",
    "```\n",
    "\n",
    "#### Functionality\n",
    "\n",
    "We have structure and content - now we just need to get them combined using Jinja.\n",
    "\n",
    "Firstly, create an `outputs` directory and add it to your `.gitignore` file. We'll dump what we create in this folder, but there's no reason to share whatever ends up in here in your repo.\n",
    "\n",
    "Jinja requires an `Environment` object to store and define things like the config and loader - i.e. where we will pull our templates from. In this case, we're running off the local filesystem, so a `FileSystemLoader` specified to search in the `templates` directory will do us just fine. \n",
    "\n",
    "With our `env` instance, we can render our basic template and write this to file.\n",
    "\n",
    "Our `autoreporting.py` script now looks like this:\n",
    "\n",
    "```python\n",
    "from jinja2 import FileSystemLoader, Environment\n",
    "\n",
    "# Content to be published\n",
    "content = \"Hello, world!\"\n",
    "\n",
    "# Configure Jinja and ready the template\n",
    "env = Environment(\n",
    "    loader=FileSystemLoader(searchpath=\"templates\")\n",
    ")\n",
    "template = env.get_template(\"report.html\")\n",
    "\n",
    "\n",
    "def main():\n",
    "    \"\"\"\n",
    "    Entry point for the script.\n",
    "    Render a template and write it to file.\n",
    "    :return:\n",
    "    \"\"\"\n",
    "    with open(\"outputs/report.html\", \"w\") as f:\n",
    "        f.write(template.render(content=content))\n",
    "\n",
    "\n",
    "if __name__ == \"__main__\":\n",
    "    main()\n",
    "\n",
    "```\n",
    "\n",
    "Note the argument to `template.render`, `content=content`. This links the template and our code. The first `content` refers to the `{{ content }}` in the template, while the second is the string defined in the script. We define this relationship and the string is fed into the template to make a substitution."
   ]
  },
  {
   "cell_type": "markdown",
   "metadata": {},
   "source": [
    "### Results so far\n",
    "\n",
    "If you run this script and all goes well, a new `report.html` file will be written under `outputs/`. Open this file and behold what you have created!\n",
    "\n",
    "<img src=\"Static/ItWorks.png\">\n",
    "This certainly meets the criteria of \"very simple, but functional.\"\n",
    "\n",
    "If you inspect the HTML of the page, you'll note that the `{{ content }}` tags in the template were neatly replaced by the `Hello, world!` string, which is the crux of this affair."
   ]
  },
  {
   "cell_type": "markdown",
   "metadata": {},
   "source": [
    "## Github status\n",
    "\n",
    "You've developed a new feature, so it's a good point to commit and push to Github. \n",
    "\n",
    "Your repo should probably look a bit like [this](https://github.com/goyder/autoreporting/tree/271790cb0e6ed8d2e07b585fa43d03b1e1fa5b1b)."
   ]
  },
  {
   "cell_type": "markdown",
   "metadata": {},
   "source": [
    "## Next Steps\n",
    "\n",
    "The reporter walks and works, but we certainly don't have any sort of meaningful input or flexibility at this point. Our next steps will be to explore how we can read in data and report on it, and start working with JavaScript and CSS."
   ]
  }
 ],
 "metadata": {
  "kernelspec": {
   "display_name": "Python 3",
   "language": "python",
   "name": "python3"
  },
  "language_info": {
   "codemirror_mode": {
    "name": "ipython",
    "version": 3
   },
   "file_extension": ".py",
   "mimetype": "text/x-python",
   "name": "python",
   "nbconvert_exporter": "python",
   "pygments_lexer": "ipython3",
   "version": "3.6.5"
  }
 },
 "nbformat": 4,
 "nbformat_minor": 2
}
